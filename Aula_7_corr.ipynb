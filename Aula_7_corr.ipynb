{
 "cells": [
  {
   "cell_type": "markdown",
   "metadata": {},
   "source": [
    "# Análise Exploratória de Dados usando Pandas\n",
    "\n",
    "EDA é o processo de obter, preparar e apresentar dados com o objetivo de obter insights que direcionem o negócio de maneira eficiente e eficaz.\n",
    "\n",
    "<img src=\"assets/data_prep_pipeline.png\" />\n",
    "\n",
    "É o processo mais demorado, visto que exige atenção especial para preparar dados corretamente a fim de não produzir resultados enviesados ou mesmos incorretos. \n",
    "\n",
    "Ao longo do processo exploratório, vamos estudar vários conceitos extremamente úteis para lidar com dados de maneira geral. Esses conceitos, que serão transformados em funções, poderão compor nossa biblioteca pessoal de análise de dados\n",
    "\n",
    "Documentação oficial do Pandas para consulta: [link](https://pandas.pydata.org/docs/user_guide/index.html#user-guide) "
   ]
  },
  {
   "cell_type": "code",
   "execution_count": 1,
   "metadata": {
    "tags": [
     "hidecode"
    ]
   },
   "outputs": [],
   "source": [
    "import numpy as np\n",
    "import pandas as pd\n",
    "import matplotlib.pyplot as plt"
   ]
  },
  {
   "cell_type": "code",
   "execution_count": 2,
   "metadata": {
    "tags": [
     "hidecode"
    ]
   },
   "outputs": [
    {
     "name": "stdout",
     "output_type": "stream",
     "text": [
      "Index(['Unnamed: 0.1', 'Unnamed: 0', 'Company Name', 'Location', 'Datum',\n",
      "       'Detail', 'Status Rocket', ' Rocket', 'Status Mission'],\n",
      "      dtype='object')\n",
      "\n"
     ]
    },
    {
     "data": {
      "text/html": [
       "<div>\n",
       "<style scoped>\n",
       "    .dataframe tbody tr th:only-of-type {\n",
       "        vertical-align: middle;\n",
       "    }\n",
       "\n",
       "    .dataframe tbody tr th {\n",
       "        vertical-align: top;\n",
       "    }\n",
       "\n",
       "    .dataframe thead th {\n",
       "        text-align: right;\n",
       "    }\n",
       "</style>\n",
       "<table border=\"1\" class=\"dataframe\">\n",
       "  <thead>\n",
       "    <tr style=\"text-align: right;\">\n",
       "      <th></th>\n",
       "      <th>Unnamed: 0.1</th>\n",
       "      <th>Unnamed: 0</th>\n",
       "      <th>Company Name</th>\n",
       "      <th>Location</th>\n",
       "      <th>Datum</th>\n",
       "      <th>Detail</th>\n",
       "      <th>Status Rocket</th>\n",
       "      <th>Rocket</th>\n",
       "      <th>Status Mission</th>\n",
       "    </tr>\n",
       "  </thead>\n",
       "  <tbody>\n",
       "    <tr>\n",
       "      <th>0</th>\n",
       "      <td>0</td>\n",
       "      <td>0</td>\n",
       "      <td>SpaceX</td>\n",
       "      <td>LC-39A, Kennedy Space Center, Florida, USA</td>\n",
       "      <td>Fri Aug 07, 2020 05:12 UTC</td>\n",
       "      <td>Falcon 9 Block 5 | Starlink V1 L9 &amp; BlackSky</td>\n",
       "      <td>StatusActive</td>\n",
       "      <td>50.0</td>\n",
       "      <td>Success</td>\n",
       "    </tr>\n",
       "    <tr>\n",
       "      <th>1</th>\n",
       "      <td>1</td>\n",
       "      <td>1</td>\n",
       "      <td>CASC</td>\n",
       "      <td>Site 9401 (SLS-2), Jiuquan Satellite Launch Ce...</td>\n",
       "      <td>Thu Aug 06, 2020 04:01 UTC</td>\n",
       "      <td>Long March 2D | Gaofen-9 04 &amp; Q-SAT</td>\n",
       "      <td>StatusActive</td>\n",
       "      <td>29.75</td>\n",
       "      <td>Success</td>\n",
       "    </tr>\n",
       "    <tr>\n",
       "      <th>2</th>\n",
       "      <td>2</td>\n",
       "      <td>2</td>\n",
       "      <td>SpaceX</td>\n",
       "      <td>Pad A, Boca Chica, Texas, USA</td>\n",
       "      <td>Tue Aug 04, 2020 23:57 UTC</td>\n",
       "      <td>Starship Prototype | 150 Meter Hop</td>\n",
       "      <td>StatusActive</td>\n",
       "      <td>NaN</td>\n",
       "      <td>Success</td>\n",
       "    </tr>\n",
       "    <tr>\n",
       "      <th>3</th>\n",
       "      <td>3</td>\n",
       "      <td>3</td>\n",
       "      <td>Roscosmos</td>\n",
       "      <td>Site 200/39, Baikonur Cosmodrome, Kazakhstan</td>\n",
       "      <td>Thu Jul 30, 2020 21:25 UTC</td>\n",
       "      <td>Proton-M/Briz-M | Ekspress-80 &amp; Ekspress-103</td>\n",
       "      <td>StatusActive</td>\n",
       "      <td>65.0</td>\n",
       "      <td>Success</td>\n",
       "    </tr>\n",
       "    <tr>\n",
       "      <th>4</th>\n",
       "      <td>4</td>\n",
       "      <td>4</td>\n",
       "      <td>ULA</td>\n",
       "      <td>SLC-41, Cape Canaveral AFS, Florida, USA</td>\n",
       "      <td>Thu Jul 30, 2020 11:50 UTC</td>\n",
       "      <td>Atlas V 541 | Perseverance</td>\n",
       "      <td>StatusActive</td>\n",
       "      <td>145.0</td>\n",
       "      <td>Success</td>\n",
       "    </tr>\n",
       "  </tbody>\n",
       "</table>\n",
       "</div>"
      ],
      "text/plain": [
       "   Unnamed: 0.1  Unnamed: 0 Company Name  \\\n",
       "0             0           0       SpaceX   \n",
       "1             1           1         CASC   \n",
       "2             2           2       SpaceX   \n",
       "3             3           3    Roscosmos   \n",
       "4             4           4          ULA   \n",
       "\n",
       "                                            Location  \\\n",
       "0         LC-39A, Kennedy Space Center, Florida, USA   \n",
       "1  Site 9401 (SLS-2), Jiuquan Satellite Launch Ce...   \n",
       "2                      Pad A, Boca Chica, Texas, USA   \n",
       "3       Site 200/39, Baikonur Cosmodrome, Kazakhstan   \n",
       "4           SLC-41, Cape Canaveral AFS, Florida, USA   \n",
       "\n",
       "                        Datum                                        Detail  \\\n",
       "0  Fri Aug 07, 2020 05:12 UTC  Falcon 9 Block 5 | Starlink V1 L9 & BlackSky   \n",
       "1  Thu Aug 06, 2020 04:01 UTC           Long March 2D | Gaofen-9 04 & Q-SAT   \n",
       "2  Tue Aug 04, 2020 23:57 UTC            Starship Prototype | 150 Meter Hop   \n",
       "3  Thu Jul 30, 2020 21:25 UTC  Proton-M/Briz-M | Ekspress-80 & Ekspress-103   \n",
       "4  Thu Jul 30, 2020 11:50 UTC                    Atlas V 541 | Perseverance   \n",
       "\n",
       "  Status Rocket  Rocket Status Mission  \n",
       "0  StatusActive   50.0         Success  \n",
       "1  StatusActive  29.75         Success  \n",
       "2  StatusActive     NaN        Success  \n",
       "3  StatusActive   65.0         Success  \n",
       "4  StatusActive  145.0         Success  "
      ]
     },
     "execution_count": 2,
     "metadata": {},
     "output_type": "execute_result"
    }
   ],
   "source": [
    "data = pd.read_csv('bases/Space_Missions.csv')\n",
    "print(data.columns)\n",
    "print()\n",
    "data.head()"
   ]
  },
  {
   "cell_type": "code",
   "execution_count": null,
   "metadata": {},
   "outputs": [],
   "source": [
    "data['Company Name'].describe()"
   ]
  },
  {
   "cell_type": "markdown",
   "metadata": {},
   "source": [
    "Ao olhar nosso dataset, percebemos algumas colunas que não ajudarão em nossa análise, podendo ser removidas. As demais, todas contêm informações úteis que ou podemos usá-las diretamente ou manipulá-las para que possam ser usadas no processo exploratório."
   ]
  },
  {
   "cell_type": "markdown",
   "metadata": {},
   "source": [
    "## ToDo 1\n",
    "\n",
    "Elimine as duas primeiras colunas do Dataset. Utilize a mesma variável para armazenar o resultado da operação. "
   ]
  },
  {
   "cell_type": "code",
   "execution_count": 3,
   "metadata": {
    "tags": []
   },
   "outputs": [
    {
     "data": {
      "text/html": [
       "<div>\n",
       "<style scoped>\n",
       "    .dataframe tbody tr th:only-of-type {\n",
       "        vertical-align: middle;\n",
       "    }\n",
       "\n",
       "    .dataframe tbody tr th {\n",
       "        vertical-align: top;\n",
       "    }\n",
       "\n",
       "    .dataframe thead th {\n",
       "        text-align: right;\n",
       "    }\n",
       "</style>\n",
       "<table border=\"1\" class=\"dataframe\">\n",
       "  <thead>\n",
       "    <tr style=\"text-align: right;\">\n",
       "      <th></th>\n",
       "      <th>Company Name</th>\n",
       "      <th>Location</th>\n",
       "      <th>Datum</th>\n",
       "      <th>Detail</th>\n",
       "      <th>Status Rocket</th>\n",
       "      <th>Rocket</th>\n",
       "      <th>Status Mission</th>\n",
       "    </tr>\n",
       "  </thead>\n",
       "  <tbody>\n",
       "    <tr>\n",
       "      <th>0</th>\n",
       "      <td>SpaceX</td>\n",
       "      <td>LC-39A, Kennedy Space Center, Florida, USA</td>\n",
       "      <td>Fri Aug 07, 2020 05:12 UTC</td>\n",
       "      <td>Falcon 9 Block 5 | Starlink V1 L9 &amp; BlackSky</td>\n",
       "      <td>StatusActive</td>\n",
       "      <td>50.0</td>\n",
       "      <td>Success</td>\n",
       "    </tr>\n",
       "    <tr>\n",
       "      <th>1</th>\n",
       "      <td>CASC</td>\n",
       "      <td>Site 9401 (SLS-2), Jiuquan Satellite Launch Ce...</td>\n",
       "      <td>Thu Aug 06, 2020 04:01 UTC</td>\n",
       "      <td>Long March 2D | Gaofen-9 04 &amp; Q-SAT</td>\n",
       "      <td>StatusActive</td>\n",
       "      <td>29.75</td>\n",
       "      <td>Success</td>\n",
       "    </tr>\n",
       "    <tr>\n",
       "      <th>2</th>\n",
       "      <td>SpaceX</td>\n",
       "      <td>Pad A, Boca Chica, Texas, USA</td>\n",
       "      <td>Tue Aug 04, 2020 23:57 UTC</td>\n",
       "      <td>Starship Prototype | 150 Meter Hop</td>\n",
       "      <td>StatusActive</td>\n",
       "      <td>NaN</td>\n",
       "      <td>Success</td>\n",
       "    </tr>\n",
       "    <tr>\n",
       "      <th>3</th>\n",
       "      <td>Roscosmos</td>\n",
       "      <td>Site 200/39, Baikonur Cosmodrome, Kazakhstan</td>\n",
       "      <td>Thu Jul 30, 2020 21:25 UTC</td>\n",
       "      <td>Proton-M/Briz-M | Ekspress-80 &amp; Ekspress-103</td>\n",
       "      <td>StatusActive</td>\n",
       "      <td>65.0</td>\n",
       "      <td>Success</td>\n",
       "    </tr>\n",
       "    <tr>\n",
       "      <th>4</th>\n",
       "      <td>ULA</td>\n",
       "      <td>SLC-41, Cape Canaveral AFS, Florida, USA</td>\n",
       "      <td>Thu Jul 30, 2020 11:50 UTC</td>\n",
       "      <td>Atlas V 541 | Perseverance</td>\n",
       "      <td>StatusActive</td>\n",
       "      <td>145.0</td>\n",
       "      <td>Success</td>\n",
       "    </tr>\n",
       "  </tbody>\n",
       "</table>\n",
       "</div>"
      ],
      "text/plain": [
       "  Company Name                                           Location  \\\n",
       "0       SpaceX         LC-39A, Kennedy Space Center, Florida, USA   \n",
       "1         CASC  Site 9401 (SLS-2), Jiuquan Satellite Launch Ce...   \n",
       "2       SpaceX                      Pad A, Boca Chica, Texas, USA   \n",
       "3    Roscosmos       Site 200/39, Baikonur Cosmodrome, Kazakhstan   \n",
       "4          ULA           SLC-41, Cape Canaveral AFS, Florida, USA   \n",
       "\n",
       "                        Datum                                        Detail  \\\n",
       "0  Fri Aug 07, 2020 05:12 UTC  Falcon 9 Block 5 | Starlink V1 L9 & BlackSky   \n",
       "1  Thu Aug 06, 2020 04:01 UTC           Long March 2D | Gaofen-9 04 & Q-SAT   \n",
       "2  Tue Aug 04, 2020 23:57 UTC            Starship Prototype | 150 Meter Hop   \n",
       "3  Thu Jul 30, 2020 21:25 UTC  Proton-M/Briz-M | Ekspress-80 & Ekspress-103   \n",
       "4  Thu Jul 30, 2020 11:50 UTC                    Atlas V 541 | Perseverance   \n",
       "\n",
       "  Status Rocket  Rocket Status Mission  \n",
       "0  StatusActive   50.0         Success  \n",
       "1  StatusActive  29.75         Success  \n",
       "2  StatusActive     NaN        Success  \n",
       "3  StatusActive   65.0         Success  \n",
       "4  StatusActive  145.0         Success  "
      ]
     },
     "execution_count": 3,
     "metadata": {},
     "output_type": "execute_result"
    }
   ],
   "source": [
    "# Resposta\n",
    "data.drop(['Unnamed: 0','Unnamed: 0.1'], axis = 1, inplace=True) \n",
    "data.head()"
   ]
  },
  {
   "cell_type": "markdown",
   "metadata": {},
   "source": [
    "Os nomes das colunas precisam ser significativos para que possamos usá-las corretamente. Nesse dataset, a maioria dos nomes é de fácil compreensão, com exceção da coluna \"Rocket\", que representa o custo da missão (não apenas do foguete) em milhões de dólares. Assim, vamos renomear as colunas para tornar seus nomes mais compreensíveis."
   ]
  },
  {
   "cell_type": "markdown",
   "metadata": {},
   "source": [
    "## ToDo 2\n",
    "Renomeie o nome das colunas conforme a lista abaixo:\n",
    "\n",
    "> Company Name => company_name\n",
    "\n",
    "> Location => location\n",
    "\n",
    "> Datum => date\n",
    "\n",
    "> Detail => detail\n",
    "\n",
    "> Status Rocket => status_rocket\n",
    "\n",
    "> Rocket = cost_mission\n",
    "\n",
    "> Status Mission => status_mission"
   ]
  },
  {
   "cell_type": "code",
   "execution_count": 4,
   "metadata": {
    "tags": []
   },
   "outputs": [
    {
     "data": {
      "text/html": [
       "<div>\n",
       "<style scoped>\n",
       "    .dataframe tbody tr th:only-of-type {\n",
       "        vertical-align: middle;\n",
       "    }\n",
       "\n",
       "    .dataframe tbody tr th {\n",
       "        vertical-align: top;\n",
       "    }\n",
       "\n",
       "    .dataframe thead th {\n",
       "        text-align: right;\n",
       "    }\n",
       "</style>\n",
       "<table border=\"1\" class=\"dataframe\">\n",
       "  <thead>\n",
       "    <tr style=\"text-align: right;\">\n",
       "      <th></th>\n",
       "      <th>company_name</th>\n",
       "      <th>location</th>\n",
       "      <th>date</th>\n",
       "      <th>detail</th>\n",
       "      <th>status_rocket</th>\n",
       "      <th>cost_mission</th>\n",
       "      <th>status_mission</th>\n",
       "    </tr>\n",
       "  </thead>\n",
       "  <tbody>\n",
       "    <tr>\n",
       "      <th>0</th>\n",
       "      <td>SpaceX</td>\n",
       "      <td>LC-39A, Kennedy Space Center, Florida, USA</td>\n",
       "      <td>Fri Aug 07, 2020 05:12 UTC</td>\n",
       "      <td>Falcon 9 Block 5 | Starlink V1 L9 &amp; BlackSky</td>\n",
       "      <td>StatusActive</td>\n",
       "      <td>50.0</td>\n",
       "      <td>Success</td>\n",
       "    </tr>\n",
       "    <tr>\n",
       "      <th>1</th>\n",
       "      <td>CASC</td>\n",
       "      <td>Site 9401 (SLS-2), Jiuquan Satellite Launch Ce...</td>\n",
       "      <td>Thu Aug 06, 2020 04:01 UTC</td>\n",
       "      <td>Long March 2D | Gaofen-9 04 &amp; Q-SAT</td>\n",
       "      <td>StatusActive</td>\n",
       "      <td>29.75</td>\n",
       "      <td>Success</td>\n",
       "    </tr>\n",
       "    <tr>\n",
       "      <th>2</th>\n",
       "      <td>SpaceX</td>\n",
       "      <td>Pad A, Boca Chica, Texas, USA</td>\n",
       "      <td>Tue Aug 04, 2020 23:57 UTC</td>\n",
       "      <td>Starship Prototype | 150 Meter Hop</td>\n",
       "      <td>StatusActive</td>\n",
       "      <td>NaN</td>\n",
       "      <td>Success</td>\n",
       "    </tr>\n",
       "    <tr>\n",
       "      <th>3</th>\n",
       "      <td>Roscosmos</td>\n",
       "      <td>Site 200/39, Baikonur Cosmodrome, Kazakhstan</td>\n",
       "      <td>Thu Jul 30, 2020 21:25 UTC</td>\n",
       "      <td>Proton-M/Briz-M | Ekspress-80 &amp; Ekspress-103</td>\n",
       "      <td>StatusActive</td>\n",
       "      <td>65.0</td>\n",
       "      <td>Success</td>\n",
       "    </tr>\n",
       "    <tr>\n",
       "      <th>4</th>\n",
       "      <td>ULA</td>\n",
       "      <td>SLC-41, Cape Canaveral AFS, Florida, USA</td>\n",
       "      <td>Thu Jul 30, 2020 11:50 UTC</td>\n",
       "      <td>Atlas V 541 | Perseverance</td>\n",
       "      <td>StatusActive</td>\n",
       "      <td>145.0</td>\n",
       "      <td>Success</td>\n",
       "    </tr>\n",
       "  </tbody>\n",
       "</table>\n",
       "</div>"
      ],
      "text/plain": [
       "  company_name                                           location  \\\n",
       "0       SpaceX         LC-39A, Kennedy Space Center, Florida, USA   \n",
       "1         CASC  Site 9401 (SLS-2), Jiuquan Satellite Launch Ce...   \n",
       "2       SpaceX                      Pad A, Boca Chica, Texas, USA   \n",
       "3    Roscosmos       Site 200/39, Baikonur Cosmodrome, Kazakhstan   \n",
       "4          ULA           SLC-41, Cape Canaveral AFS, Florida, USA   \n",
       "\n",
       "                         date                                        detail  \\\n",
       "0  Fri Aug 07, 2020 05:12 UTC  Falcon 9 Block 5 | Starlink V1 L9 & BlackSky   \n",
       "1  Thu Aug 06, 2020 04:01 UTC           Long March 2D | Gaofen-9 04 & Q-SAT   \n",
       "2  Tue Aug 04, 2020 23:57 UTC            Starship Prototype | 150 Meter Hop   \n",
       "3  Thu Jul 30, 2020 21:25 UTC  Proton-M/Briz-M | Ekspress-80 & Ekspress-103   \n",
       "4  Thu Jul 30, 2020 11:50 UTC                    Atlas V 541 | Perseverance   \n",
       "\n",
       "  status_rocket cost_mission status_mission  \n",
       "0  StatusActive        50.0         Success  \n",
       "1  StatusActive       29.75         Success  \n",
       "2  StatusActive          NaN        Success  \n",
       "3  StatusActive        65.0         Success  \n",
       "4  StatusActive       145.0         Success  "
      ]
     },
     "execution_count": 4,
     "metadata": {},
     "output_type": "execute_result"
    }
   ],
   "source": [
    "# Resposta\n",
    "data.rename(columns={'Company Name':\"company_name\", 'Location':'location',\"Datum\":\"date\",\"Detail\":'detail',\n",
    "                   'Status Rocket':\"status_rocket\",' Rocket':\"cost_mission\", \n",
    "                   'Status Mission':\"status_mission\"}, inplace=True)\n",
    "data.head()"
   ]
  },
  {
   "cell_type": "markdown",
   "metadata": {},
   "source": [
    "O método info retorna informações sobre os tipos de dados presentes no nosso dataset"
   ]
  },
  {
   "cell_type": "code",
   "execution_count": 5,
   "metadata": {},
   "outputs": [
    {
     "name": "stdout",
     "output_type": "stream",
     "text": [
      "<class 'pandas.core.frame.DataFrame'>\n",
      "RangeIndex: 4324 entries, 0 to 4323\n",
      "Data columns (total 7 columns):\n",
      " #   Column          Non-Null Count  Dtype \n",
      "---  ------          --------------  ----- \n",
      " 0   company_name    4324 non-null   object\n",
      " 1   location        4324 non-null   object\n",
      " 2   date            4324 non-null   object\n",
      " 3   detail          4324 non-null   object\n",
      " 4   status_rocket   4324 non-null   object\n",
      " 5   cost_mission    964 non-null    object\n",
      " 6   status_mission  4324 non-null   object\n",
      "dtypes: object(7)\n",
      "memory usage: 236.6+ KB\n"
     ]
    }
   ],
   "source": [
    "data.info()"
   ]
  },
  {
   "cell_type": "markdown",
   "metadata": {},
   "source": [
    "O método describe() fornece uma visão geral de como estão os dados. Entretanto, nosso dataset é composto em sua grande parte por dados categóricos. Ainda assim, o método describe() consegue apresentar informações muito relevantes. "
   ]
  },
  {
   "cell_type": "code",
   "execution_count": 6,
   "metadata": {},
   "outputs": [
    {
     "data": {
      "text/html": [
       "<div>\n",
       "<style scoped>\n",
       "    .dataframe tbody tr th:only-of-type {\n",
       "        vertical-align: middle;\n",
       "    }\n",
       "\n",
       "    .dataframe tbody tr th {\n",
       "        vertical-align: top;\n",
       "    }\n",
       "\n",
       "    .dataframe thead th {\n",
       "        text-align: right;\n",
       "    }\n",
       "</style>\n",
       "<table border=\"1\" class=\"dataframe\">\n",
       "  <thead>\n",
       "    <tr style=\"text-align: right;\">\n",
       "      <th></th>\n",
       "      <th>company_name</th>\n",
       "      <th>location</th>\n",
       "      <th>date</th>\n",
       "      <th>detail</th>\n",
       "      <th>status_rocket</th>\n",
       "      <th>cost_mission</th>\n",
       "      <th>status_mission</th>\n",
       "    </tr>\n",
       "  </thead>\n",
       "  <tbody>\n",
       "    <tr>\n",
       "      <th>count</th>\n",
       "      <td>4324</td>\n",
       "      <td>4324</td>\n",
       "      <td>4324</td>\n",
       "      <td>4324</td>\n",
       "      <td>4324</td>\n",
       "      <td>964</td>\n",
       "      <td>4324</td>\n",
       "    </tr>\n",
       "    <tr>\n",
       "      <th>unique</th>\n",
       "      <td>56</td>\n",
       "      <td>137</td>\n",
       "      <td>4319</td>\n",
       "      <td>4278</td>\n",
       "      <td>2</td>\n",
       "      <td>56</td>\n",
       "      <td>4</td>\n",
       "    </tr>\n",
       "    <tr>\n",
       "      <th>top</th>\n",
       "      <td>RVSN USSR</td>\n",
       "      <td>Site 31/6, Baikonur Cosmodrome, Kazakhstan</td>\n",
       "      <td>Wed Nov 05, 2008 00:15 UTC</td>\n",
       "      <td>Cosmos-3MRB (65MRB) | BOR-5 Shuttle</td>\n",
       "      <td>StatusRetired</td>\n",
       "      <td>450.0</td>\n",
       "      <td>Success</td>\n",
       "    </tr>\n",
       "    <tr>\n",
       "      <th>freq</th>\n",
       "      <td>1777</td>\n",
       "      <td>235</td>\n",
       "      <td>2</td>\n",
       "      <td>6</td>\n",
       "      <td>3534</td>\n",
       "      <td>136</td>\n",
       "      <td>3879</td>\n",
       "    </tr>\n",
       "  </tbody>\n",
       "</table>\n",
       "</div>"
      ],
      "text/plain": [
       "       company_name                                    location  \\\n",
       "count          4324                                        4324   \n",
       "unique           56                                         137   \n",
       "top       RVSN USSR  Site 31/6, Baikonur Cosmodrome, Kazakhstan   \n",
       "freq           1777                                         235   \n",
       "\n",
       "                              date                               detail  \\\n",
       "count                         4324                                 4324   \n",
       "unique                        4319                                 4278   \n",
       "top     Wed Nov 05, 2008 00:15 UTC  Cosmos-3MRB (65MRB) | BOR-5 Shuttle   \n",
       "freq                             2                                    6   \n",
       "\n",
       "        status_rocket cost_mission status_mission  \n",
       "count            4324          964           4324  \n",
       "unique              2           56              4  \n",
       "top     StatusRetired       450.0         Success  \n",
       "freq             3534          136           3879  "
      ]
     },
     "execution_count": 6,
     "metadata": {},
     "output_type": "execute_result"
    }
   ],
   "source": [
    "data.describe()"
   ]
  },
  {
   "cell_type": "markdown",
   "metadata": {},
   "source": [
    "Valores faltantes são um problemas ao realizarmos Análise Exploratória de Dados. Existem algumas abordagens que podemos utilizar para tratar desse problema:\n",
    "\n",
    "> Remoção da linha que contenha elementos faltantes\n",
    "\n",
    "> Sustituição do valor faltante pela média dos valores da coluna\n",
    "\n",
    "> Substituição do valor faltante pela mediana dos valores da coluna"
   ]
  },
  {
   "cell_type": "code",
   "execution_count": 7,
   "metadata": {},
   "outputs": [
    {
     "data": {
      "text/plain": [
       "array(['50.0 ', '29.75 ', nan, '65.0 ', '145.0 ', '64.68 ', '48.5 ',\n",
       "       '90.0 ', '46.0 ', '28.3 ', '29.15 ', '7.5 ', '30.8 ', '5.3 ',\n",
       "       '12.0 ', '112.5 ', '120.0 ', '153.0 ', '200.0 ', '85.0 ', '115.0 ',\n",
       "       '41.8 ', '21.0 ', '31.0 ', '40.0 ', '164.0 ', '62.0 ', '37.0 ',\n",
       "       '350.0 ', '39.0 ', '47.0 ', '35.0 ', '69.7 ', '109.0 ', '45.0 ',\n",
       "       '123.0 ', '130.0 ', '25.0 ', '56.5 ', '15.0 ', '29.0 ', '80.0 ',\n",
       "       '140.0 ', '55.0 ', '59.5 ', '450.0 ', '7.0 ', '20.14 ', '133.0 ',\n",
       "       '190.0 ', '135.0 ', '20.0 ', '136.6 ', '5,000.0 ', '1,160.0 ',\n",
       "       '59.0 ', '63.23 '], dtype=object)"
      ]
     },
     "execution_count": 7,
     "metadata": {},
     "output_type": "execute_result"
    }
   ],
   "source": [
    "data['cost_mission'].unique()"
   ]
  },
  {
   "cell_type": "markdown",
   "metadata": {},
   "source": [
    "## ToDo 3\n",
    "\n",
    "Julgue cost_missiona das 3 abordagens e diga qual delas você escolheria, justificando sua resposta:"
   ]
  },
  {
   "cell_type": "markdown",
   "metadata": {
    "tags": [
     "hidecode"
    ]
   },
   "source": [
    "### Resposta\n"
   ]
  },
  {
   "cell_type": "code",
   "execution_count": null,
   "metadata": {},
   "outputs": [],
   "source": [
    "data['cost_mission']"
   ]
  },
  {
   "cell_type": "markdown",
   "metadata": {},
   "source": [
    "## ToDo 4\n",
    "\n",
    "Trate os valores faltantes de acordo com a abordagem escolhida:"
   ]
  },
  {
   "cell_type": "code",
   "execution_count": 8,
   "metadata": {
    "tags": []
   },
   "outputs": [],
   "source": [
    "# Resposta\n",
    "data['cost_mission']=data['cost_mission'].str.replace(',','')\n",
    "data['cost_mission']=data['cost_mission'].astype(float)\n",
    "data['cost_mission'].fillna(data['cost_mission'].median(), inplace=True)"
   ]
  },
  {
   "cell_type": "code",
   "execution_count": 9,
   "metadata": {},
   "outputs": [
    {
     "data": {
      "text/html": [
       "<div>\n",
       "<style scoped>\n",
       "    .dataframe tbody tr th:only-of-type {\n",
       "        vertical-align: middle;\n",
       "    }\n",
       "\n",
       "    .dataframe tbody tr th {\n",
       "        vertical-align: top;\n",
       "    }\n",
       "\n",
       "    .dataframe thead th {\n",
       "        text-align: right;\n",
       "    }\n",
       "</style>\n",
       "<table border=\"1\" class=\"dataframe\">\n",
       "  <thead>\n",
       "    <tr style=\"text-align: right;\">\n",
       "      <th></th>\n",
       "      <th>company_name</th>\n",
       "      <th>location</th>\n",
       "      <th>date</th>\n",
       "      <th>detail</th>\n",
       "      <th>status_rocket</th>\n",
       "      <th>cost_mission</th>\n",
       "      <th>status_mission</th>\n",
       "    </tr>\n",
       "  </thead>\n",
       "  <tbody>\n",
       "    <tr>\n",
       "      <th>0</th>\n",
       "      <td>SpaceX</td>\n",
       "      <td>LC-39A, Kennedy Space Center, Florida, USA</td>\n",
       "      <td>Fri Aug 07, 2020 05:12 UTC</td>\n",
       "      <td>Falcon 9 Block 5 | Starlink V1 L9 &amp; BlackSky</td>\n",
       "      <td>StatusActive</td>\n",
       "      <td>50.00</td>\n",
       "      <td>Success</td>\n",
       "    </tr>\n",
       "    <tr>\n",
       "      <th>1</th>\n",
       "      <td>CASC</td>\n",
       "      <td>Site 9401 (SLS-2), Jiuquan Satellite Launch Ce...</td>\n",
       "      <td>Thu Aug 06, 2020 04:01 UTC</td>\n",
       "      <td>Long March 2D | Gaofen-9 04 &amp; Q-SAT</td>\n",
       "      <td>StatusActive</td>\n",
       "      <td>29.75</td>\n",
       "      <td>Success</td>\n",
       "    </tr>\n",
       "    <tr>\n",
       "      <th>2</th>\n",
       "      <td>SpaceX</td>\n",
       "      <td>Pad A, Boca Chica, Texas, USA</td>\n",
       "      <td>Tue Aug 04, 2020 23:57 UTC</td>\n",
       "      <td>Starship Prototype | 150 Meter Hop</td>\n",
       "      <td>StatusActive</td>\n",
       "      <td>62.00</td>\n",
       "      <td>Success</td>\n",
       "    </tr>\n",
       "    <tr>\n",
       "      <th>3</th>\n",
       "      <td>Roscosmos</td>\n",
       "      <td>Site 200/39, Baikonur Cosmodrome, Kazakhstan</td>\n",
       "      <td>Thu Jul 30, 2020 21:25 UTC</td>\n",
       "      <td>Proton-M/Briz-M | Ekspress-80 &amp; Ekspress-103</td>\n",
       "      <td>StatusActive</td>\n",
       "      <td>65.00</td>\n",
       "      <td>Success</td>\n",
       "    </tr>\n",
       "    <tr>\n",
       "      <th>4</th>\n",
       "      <td>ULA</td>\n",
       "      <td>SLC-41, Cape Canaveral AFS, Florida, USA</td>\n",
       "      <td>Thu Jul 30, 2020 11:50 UTC</td>\n",
       "      <td>Atlas V 541 | Perseverance</td>\n",
       "      <td>StatusActive</td>\n",
       "      <td>145.00</td>\n",
       "      <td>Success</td>\n",
       "    </tr>\n",
       "  </tbody>\n",
       "</table>\n",
       "</div>"
      ],
      "text/plain": [
       "  company_name                                           location  \\\n",
       "0       SpaceX         LC-39A, Kennedy Space Center, Florida, USA   \n",
       "1         CASC  Site 9401 (SLS-2), Jiuquan Satellite Launch Ce...   \n",
       "2       SpaceX                      Pad A, Boca Chica, Texas, USA   \n",
       "3    Roscosmos       Site 200/39, Baikonur Cosmodrome, Kazakhstan   \n",
       "4          ULA           SLC-41, Cape Canaveral AFS, Florida, USA   \n",
       "\n",
       "                         date                                        detail  \\\n",
       "0  Fri Aug 07, 2020 05:12 UTC  Falcon 9 Block 5 | Starlink V1 L9 & BlackSky   \n",
       "1  Thu Aug 06, 2020 04:01 UTC           Long March 2D | Gaofen-9 04 & Q-SAT   \n",
       "2  Tue Aug 04, 2020 23:57 UTC            Starship Prototype | 150 Meter Hop   \n",
       "3  Thu Jul 30, 2020 21:25 UTC  Proton-M/Briz-M | Ekspress-80 & Ekspress-103   \n",
       "4  Thu Jul 30, 2020 11:50 UTC                    Atlas V 541 | Perseverance   \n",
       "\n",
       "  status_rocket  cost_mission status_mission  \n",
       "0  StatusActive         50.00        Success  \n",
       "1  StatusActive         29.75        Success  \n",
       "2  StatusActive         62.00        Success  \n",
       "3  StatusActive         65.00        Success  \n",
       "4  StatusActive        145.00        Success  "
      ]
     },
     "execution_count": 9,
     "metadata": {},
     "output_type": "execute_result"
    }
   ],
   "source": [
    "data.head()"
   ]
  },
  {
   "cell_type": "markdown",
   "metadata": {},
   "source": [
    "Percebemos que os valores da coluna status_rocket apresenta duas possibilidades de valores. São elas:"
   ]
  },
  {
   "cell_type": "code",
   "execution_count": 10,
   "metadata": {},
   "outputs": [
    {
     "data": {
      "text/plain": [
       "array(['StatusActive', 'StatusRetired'], dtype=object)"
      ]
     },
     "execution_count": 10,
     "metadata": {},
     "output_type": "execute_result"
    }
   ],
   "source": [
    "data['status_rocket'].unique()"
   ]
  },
  {
   "cell_type": "markdown",
   "metadata": {},
   "source": [
    "## ToDo 5\n",
    "Ajuste os valores dessa coluna para que eles sejam Active ou Retired, apenas. "
   ]
  },
  {
   "cell_type": "code",
   "execution_count": 11,
   "metadata": {
    "tags": []
   },
   "outputs": [
    {
     "data": {
      "text/html": [
       "<div>\n",
       "<style scoped>\n",
       "    .dataframe tbody tr th:only-of-type {\n",
       "        vertical-align: middle;\n",
       "    }\n",
       "\n",
       "    .dataframe tbody tr th {\n",
       "        vertical-align: top;\n",
       "    }\n",
       "\n",
       "    .dataframe thead th {\n",
       "        text-align: right;\n",
       "    }\n",
       "</style>\n",
       "<table border=\"1\" class=\"dataframe\">\n",
       "  <thead>\n",
       "    <tr style=\"text-align: right;\">\n",
       "      <th></th>\n",
       "      <th>company_name</th>\n",
       "      <th>location</th>\n",
       "      <th>date</th>\n",
       "      <th>detail</th>\n",
       "      <th>status_rocket</th>\n",
       "      <th>cost_mission</th>\n",
       "      <th>status_mission</th>\n",
       "    </tr>\n",
       "  </thead>\n",
       "  <tbody>\n",
       "    <tr>\n",
       "      <th>0</th>\n",
       "      <td>SpaceX</td>\n",
       "      <td>LC-39A, Kennedy Space Center, Florida, USA</td>\n",
       "      <td>Fri Aug 07, 2020 05:12 UTC</td>\n",
       "      <td>Falcon 9 Block 5 | Starlink V1 L9 &amp; BlackSky</td>\n",
       "      <td>Active</td>\n",
       "      <td>50.00</td>\n",
       "      <td>Success</td>\n",
       "    </tr>\n",
       "    <tr>\n",
       "      <th>1</th>\n",
       "      <td>CASC</td>\n",
       "      <td>Site 9401 (SLS-2), Jiuquan Satellite Launch Ce...</td>\n",
       "      <td>Thu Aug 06, 2020 04:01 UTC</td>\n",
       "      <td>Long March 2D | Gaofen-9 04 &amp; Q-SAT</td>\n",
       "      <td>Active</td>\n",
       "      <td>29.75</td>\n",
       "      <td>Success</td>\n",
       "    </tr>\n",
       "    <tr>\n",
       "      <th>2</th>\n",
       "      <td>SpaceX</td>\n",
       "      <td>Pad A, Boca Chica, Texas, USA</td>\n",
       "      <td>Tue Aug 04, 2020 23:57 UTC</td>\n",
       "      <td>Starship Prototype | 150 Meter Hop</td>\n",
       "      <td>Active</td>\n",
       "      <td>62.00</td>\n",
       "      <td>Success</td>\n",
       "    </tr>\n",
       "    <tr>\n",
       "      <th>3</th>\n",
       "      <td>Roscosmos</td>\n",
       "      <td>Site 200/39, Baikonur Cosmodrome, Kazakhstan</td>\n",
       "      <td>Thu Jul 30, 2020 21:25 UTC</td>\n",
       "      <td>Proton-M/Briz-M | Ekspress-80 &amp; Ekspress-103</td>\n",
       "      <td>Active</td>\n",
       "      <td>65.00</td>\n",
       "      <td>Success</td>\n",
       "    </tr>\n",
       "    <tr>\n",
       "      <th>4</th>\n",
       "      <td>ULA</td>\n",
       "      <td>SLC-41, Cape Canaveral AFS, Florida, USA</td>\n",
       "      <td>Thu Jul 30, 2020 11:50 UTC</td>\n",
       "      <td>Atlas V 541 | Perseverance</td>\n",
       "      <td>Active</td>\n",
       "      <td>145.00</td>\n",
       "      <td>Success</td>\n",
       "    </tr>\n",
       "    <tr>\n",
       "      <th>5</th>\n",
       "      <td>CASC</td>\n",
       "      <td>LC-9, Taiyuan Satellite Launch Center, China</td>\n",
       "      <td>Sat Jul 25, 2020 03:13 UTC</td>\n",
       "      <td>Long March 4B | Ziyuan-3 03, Apocalypse-10 &amp; N...</td>\n",
       "      <td>Active</td>\n",
       "      <td>64.68</td>\n",
       "      <td>Success</td>\n",
       "    </tr>\n",
       "    <tr>\n",
       "      <th>6</th>\n",
       "      <td>Roscosmos</td>\n",
       "      <td>Site 31/6, Baikonur Cosmodrome, Kazakhstan</td>\n",
       "      <td>Thu Jul 23, 2020 14:26 UTC</td>\n",
       "      <td>Soyuz 2.1a | Progress MS-15</td>\n",
       "      <td>Active</td>\n",
       "      <td>48.50</td>\n",
       "      <td>Success</td>\n",
       "    </tr>\n",
       "  </tbody>\n",
       "</table>\n",
       "</div>"
      ],
      "text/plain": [
       "  company_name                                           location  \\\n",
       "0       SpaceX         LC-39A, Kennedy Space Center, Florida, USA   \n",
       "1         CASC  Site 9401 (SLS-2), Jiuquan Satellite Launch Ce...   \n",
       "2       SpaceX                      Pad A, Boca Chica, Texas, USA   \n",
       "3    Roscosmos       Site 200/39, Baikonur Cosmodrome, Kazakhstan   \n",
       "4          ULA           SLC-41, Cape Canaveral AFS, Florida, USA   \n",
       "5         CASC       LC-9, Taiyuan Satellite Launch Center, China   \n",
       "6    Roscosmos         Site 31/6, Baikonur Cosmodrome, Kazakhstan   \n",
       "\n",
       "                         date  \\\n",
       "0  Fri Aug 07, 2020 05:12 UTC   \n",
       "1  Thu Aug 06, 2020 04:01 UTC   \n",
       "2  Tue Aug 04, 2020 23:57 UTC   \n",
       "3  Thu Jul 30, 2020 21:25 UTC   \n",
       "4  Thu Jul 30, 2020 11:50 UTC   \n",
       "5  Sat Jul 25, 2020 03:13 UTC   \n",
       "6  Thu Jul 23, 2020 14:26 UTC   \n",
       "\n",
       "                                              detail status_rocket  \\\n",
       "0       Falcon 9 Block 5 | Starlink V1 L9 & BlackSky        Active   \n",
       "1                Long March 2D | Gaofen-9 04 & Q-SAT        Active   \n",
       "2                 Starship Prototype | 150 Meter Hop        Active   \n",
       "3       Proton-M/Briz-M | Ekspress-80 & Ekspress-103        Active   \n",
       "4                         Atlas V 541 | Perseverance        Active   \n",
       "5  Long March 4B | Ziyuan-3 03, Apocalypse-10 & N...        Active   \n",
       "6                        Soyuz 2.1a | Progress MS-15        Active   \n",
       "\n",
       "   cost_mission status_mission  \n",
       "0         50.00        Success  \n",
       "1         29.75        Success  \n",
       "2         62.00        Success  \n",
       "3         65.00        Success  \n",
       "4        145.00        Success  \n",
       "5         64.68        Success  \n",
       "6         48.50        Success  "
      ]
     },
     "execution_count": 11,
     "metadata": {},
     "output_type": "execute_result"
    }
   ],
   "source": [
    "#Resposta\n",
    "data['status_rocket'] = data['status_rocket'].str.replace('Status','')\n",
    "data.head(7)"
   ]
  },
  {
   "cell_type": "code",
   "execution_count": 12,
   "metadata": {},
   "outputs": [
    {
     "data": {
      "text/plain": [
       "array(['Active', 'Retired'], dtype=object)"
      ]
     },
     "execution_count": 12,
     "metadata": {},
     "output_type": "execute_result"
    }
   ],
   "source": [
    "data['status_rocket'].unique()"
   ]
  },
  {
   "cell_type": "markdown",
   "metadata": {},
   "source": [
    "## ToDo 6\n",
    "\n",
    "Crie duas colunas: Year e Country. Extraia a informação do ano de lançamento da coluna Date e a informação do País que lançou o foguete da coluna Location"
   ]
  },
  {
   "cell_type": "code",
   "execution_count": 13,
   "metadata": {
    "tags": []
   },
   "outputs": [
    {
     "data": {
      "text/html": [
       "<div>\n",
       "<style scoped>\n",
       "    .dataframe tbody tr th:only-of-type {\n",
       "        vertical-align: middle;\n",
       "    }\n",
       "\n",
       "    .dataframe tbody tr th {\n",
       "        vertical-align: top;\n",
       "    }\n",
       "\n",
       "    .dataframe thead th {\n",
       "        text-align: right;\n",
       "    }\n",
       "</style>\n",
       "<table border=\"1\" class=\"dataframe\">\n",
       "  <thead>\n",
       "    <tr style=\"text-align: right;\">\n",
       "      <th></th>\n",
       "      <th>company_name</th>\n",
       "      <th>location</th>\n",
       "      <th>date</th>\n",
       "      <th>detail</th>\n",
       "      <th>status_rocket</th>\n",
       "      <th>cost_mission</th>\n",
       "      <th>status_mission</th>\n",
       "      <th>Year</th>\n",
       "      <th>Country</th>\n",
       "    </tr>\n",
       "  </thead>\n",
       "  <tbody>\n",
       "    <tr>\n",
       "      <th>0</th>\n",
       "      <td>SpaceX</td>\n",
       "      <td>LC-39A, Kennedy Space Center, Florida, USA</td>\n",
       "      <td>2020-08-07 05:12:00+00:00</td>\n",
       "      <td>Falcon 9 Block 5 | Starlink V1 L9 &amp; BlackSky</td>\n",
       "      <td>Active</td>\n",
       "      <td>50.00</td>\n",
       "      <td>Success</td>\n",
       "      <td>2020</td>\n",
       "      <td>USA</td>\n",
       "    </tr>\n",
       "    <tr>\n",
       "      <th>1</th>\n",
       "      <td>CASC</td>\n",
       "      <td>Site 9401 (SLS-2), Jiuquan Satellite Launch Ce...</td>\n",
       "      <td>2020-08-06 04:01:00+00:00</td>\n",
       "      <td>Long March 2D | Gaofen-9 04 &amp; Q-SAT</td>\n",
       "      <td>Active</td>\n",
       "      <td>29.75</td>\n",
       "      <td>Success</td>\n",
       "      <td>2020</td>\n",
       "      <td>China</td>\n",
       "    </tr>\n",
       "    <tr>\n",
       "      <th>2</th>\n",
       "      <td>SpaceX</td>\n",
       "      <td>Pad A, Boca Chica, Texas, USA</td>\n",
       "      <td>2020-08-04 23:57:00+00:00</td>\n",
       "      <td>Starship Prototype | 150 Meter Hop</td>\n",
       "      <td>Active</td>\n",
       "      <td>62.00</td>\n",
       "      <td>Success</td>\n",
       "      <td>2020</td>\n",
       "      <td>USA</td>\n",
       "    </tr>\n",
       "  </tbody>\n",
       "</table>\n",
       "</div>"
      ],
      "text/plain": [
       "  company_name                                           location  \\\n",
       "0       SpaceX         LC-39A, Kennedy Space Center, Florida, USA   \n",
       "1         CASC  Site 9401 (SLS-2), Jiuquan Satellite Launch Ce...   \n",
       "2       SpaceX                      Pad A, Boca Chica, Texas, USA   \n",
       "\n",
       "                       date                                        detail  \\\n",
       "0 2020-08-07 05:12:00+00:00  Falcon 9 Block 5 | Starlink V1 L9 & BlackSky   \n",
       "1 2020-08-06 04:01:00+00:00           Long March 2D | Gaofen-9 04 & Q-SAT   \n",
       "2 2020-08-04 23:57:00+00:00            Starship Prototype | 150 Meter Hop   \n",
       "\n",
       "  status_rocket  cost_mission status_mission  Year Country  \n",
       "0        Active         50.00        Success  2020     USA  \n",
       "1        Active         29.75        Success  2020   China  \n",
       "2        Active         62.00        Success  2020     USA  "
      ]
     },
     "execution_count": 13,
     "metadata": {},
     "output_type": "execute_result"
    }
   ],
   "source": [
    "#Resposta\n",
    "data['date'] = pd.to_datetime(data['date'], utc=True)\n",
    "\n",
    "# Extract the launch year\n",
    "data['Year'] = data['date'].apply(lambda datetime: datetime.year)\n",
    "\n",
    "# Extract the country of launch\n",
    "data[\"Country\"] = data[\"location\"].apply(lambda location: location.split(\", \")[-1])\n",
    "data.head(3)"
   ]
  },
  {
   "cell_type": "markdown",
   "metadata": {},
   "source": [
    "## ToDo 7 - Opcional\n",
    "\n",
    "Crie dois gráficos a partir das colunas criadas no ToDo 6:\n",
    "\n",
    "1. um que mostre o total de lançamentos por anos\n",
    "\n",
    "2. e outro que mostre, de maneira descendente, o total de vezes que um pais fez um lançamento. Dica: Adicione num pandas DataFrame o país numa coluna e a quantidade de lançamentos em outra. Depois, ordene os valores pela quantidade de lançamentos e insira, em formato numpy array, os dados para criar um gráfico."
   ]
  },
  {
   "cell_type": "code",
   "execution_count": 14,
   "metadata": {
    "tags": []
   },
   "outputs": [
    {
     "data": {
      "text/plain": [
       "Text(0.5, 1.0, 'Quantidade de Foguetes Lançados por Ano')"
      ]
     },
     "execution_count": 14,
     "metadata": {},
     "output_type": "execute_result"
    },
    {
     "data": {
      "image/png": "[encoded data removed]",
      "text/plain": [
       "<Figure size 1440x720 with 1 Axes>"
      ]
     },
     "metadata": {
      "needs_background": "light"
     },
     "output_type": "display_data"
    }
   ],
   "source": [
    "year = []\n",
    "qtde_launch = []\n",
    "by_year = data.groupby(by='Year')\n",
    "for name, group in by_year:\n",
    "    year.append(name)\n",
    "    qtde_launch.append(len(group))\n",
    "    \n",
    "plt.figure(figsize=(20,10))\n",
    "plt.bar(year,qtde_launch)\n",
    "plt.xticks(year, rotation = 'vertical')\n",
    "plt.ylabel('Número de Lançamentos')\n",
    "plt.title('Quantidade de Foguetes Lançados por Ano')"
   ]
  },
  {
   "cell_type": "code",
   "execution_count": 15,
   "metadata": {
    "tags": []
   },
   "outputs": [
    {
     "data": {
      "text/plain": [
       "Text(0.5, 1.0, 'Quantidade de Foguetes Lançados por País')"
      ]
     },
     "execution_count": 15,
     "metadata": {},
     "output_type": "execute_result"
    },
    {
     "data": {
      "image/png": "[encoded data removed]",
      "text/plain": [
       "<Figure size 1440x720 with 1 Axes>"
      ]
     },
     "metadata": {
      "needs_background": "light"
     },
     "output_type": "display_data"
    }
   ],
   "source": [
    "country = []\n",
    "qtde_launch_by_country = []\n",
    "by_country = data.groupby(by='Country')\n",
    "for name, group in by_country:\n",
    "    country.append(name)\n",
    "    qtde_launch_by_country.append(len(group))\n",
    "    \n",
    "df = pd.DataFrame({'Pais':country,'Lancamentos':qtde_launch_by_country})\n",
    "df.sort_values(by='Lancamentos', inplace=True, ascending=False)\n",
    "    \n",
    "plt.figure(figsize=(20,10))\n",
    "plt.bar(np.array(df['Pais']),np.array(df['Lancamentos']))\n",
    "plt.xticks(country, rotation = 'vertical')\n",
    "plt.ylabel('Número de Lançamentos')\n",
    "plt.title('Quantidade de Foguetes Lançados por País')"
   ]
  },
  {
   "cell_type": "code",
   "execution_count": null,
   "metadata": {
    "tags": []
   },
   "outputs": [],
   "source": [
    "data.groupby('Country').size().sort_values(ascending = False).plot.bar()"
   ]
  },
  {
   "cell_type": "code",
   "execution_count": 16,
   "metadata": {},
   "outputs": [
    {
     "data": {
      "text/html": [
       "<div>\n",
       "<style scoped>\n",
       "    .dataframe tbody tr th:only-of-type {\n",
       "        vertical-align: middle;\n",
       "    }\n",
       "\n",
       "    .dataframe tbody tr th {\n",
       "        vertical-align: top;\n",
       "    }\n",
       "\n",
       "    .dataframe thead th {\n",
       "        text-align: right;\n",
       "    }\n",
       "</style>\n",
       "<table border=\"1\" class=\"dataframe\">\n",
       "  <thead>\n",
       "    <tr style=\"text-align: right;\">\n",
       "      <th></th>\n",
       "      <th>company_name</th>\n",
       "      <th>location</th>\n",
       "      <th>date</th>\n",
       "      <th>detail</th>\n",
       "      <th>status_rocket</th>\n",
       "      <th>cost_mission</th>\n",
       "      <th>status_mission</th>\n",
       "      <th>Year</th>\n",
       "      <th>Country</th>\n",
       "    </tr>\n",
       "  </thead>\n",
       "  <tbody>\n",
       "    <tr>\n",
       "      <th>1032</th>\n",
       "      <td>AEB</td>\n",
       "      <td>VLS Pad, Alc?›ntara Launch Center, Maranh?œo, ...</td>\n",
       "      <td>2003-08-25 00:00:00+00:00</td>\n",
       "      <td>VLS-1 | SATEC, UNOSAT</td>\n",
       "      <td>Active</td>\n",
       "      <td>62.0</td>\n",
       "      <td>Prelaunch Failure</td>\n",
       "      <td>2003</td>\n",
       "      <td>Brazil</td>\n",
       "    </tr>\n",
       "    <tr>\n",
       "      <th>1221</th>\n",
       "      <td>AEB</td>\n",
       "      <td>VLS Pad, Alc?›ntara Launch Center, Maranh?œo, ...</td>\n",
       "      <td>1999-12-11 19:40:00+00:00</td>\n",
       "      <td>VLS-1 | SACI-2</td>\n",
       "      <td>Active</td>\n",
       "      <td>62.0</td>\n",
       "      <td>Failure</td>\n",
       "      <td>1999</td>\n",
       "      <td>Brazil</td>\n",
       "    </tr>\n",
       "    <tr>\n",
       "      <th>1354</th>\n",
       "      <td>AEB</td>\n",
       "      <td>VLS Pad, Alc?›ntara Launch Center, Maranh?œo, ...</td>\n",
       "      <td>1997-11-02 00:00:00+00:00</td>\n",
       "      <td>VLS-1 | SCD-2A</td>\n",
       "      <td>Active</td>\n",
       "      <td>62.0</td>\n",
       "      <td>Failure</td>\n",
       "      <td>1997</td>\n",
       "      <td>Brazil</td>\n",
       "    </tr>\n",
       "  </tbody>\n",
       "</table>\n",
       "</div>"
      ],
      "text/plain": [
       "     company_name                                           location  \\\n",
       "1032          AEB  VLS Pad, Alc?›ntara Launch Center, Maranh?œo, ...   \n",
       "1221          AEB  VLS Pad, Alc?›ntara Launch Center, Maranh?œo, ...   \n",
       "1354          AEB  VLS Pad, Alc?›ntara Launch Center, Maranh?œo, ...   \n",
       "\n",
       "                          date                 detail status_rocket  \\\n",
       "1032 2003-08-25 00:00:00+00:00  VLS-1 | SATEC, UNOSAT        Active   \n",
       "1221 1999-12-11 19:40:00+00:00         VLS-1 | SACI-2        Active   \n",
       "1354 1997-11-02 00:00:00+00:00         VLS-1 | SCD-2A        Active   \n",
       "\n",
       "      cost_mission     status_mission  Year Country  \n",
       "1032          62.0  Prelaunch Failure  2003  Brazil  \n",
       "1221          62.0            Failure  1999  Brazil  \n",
       "1354          62.0            Failure  1997  Brazil  "
      ]
     },
     "execution_count": 16,
     "metadata": {},
     "output_type": "execute_result"
    }
   ],
   "source": [
    "data[data['Country']=='Brazil']"
   ]
  },
  {
   "cell_type": "code",
   "execution_count": null,
   "metadata": {},
   "outputs": [],
   "source": []
  }
 ],
 "metadata": {
  "kernelspec": {
   "display_name": "Python 3 (ipykernel)",
   "language": "python",
   "name": "python3"
  },
  "language_info": {
   "codemirror_mode": {
    "name": "ipython",
    "version": 3
   },
   "file_extension": ".py",
   "mimetype": "text/x-python",
   "name": "python",
   "nbconvert_exporter": "python",
   "pygments_lexer": "ipython3",
   "version": "3.9.12"
  }
 },
 "nbformat": 4,
 "nbformat_minor": 4
}
