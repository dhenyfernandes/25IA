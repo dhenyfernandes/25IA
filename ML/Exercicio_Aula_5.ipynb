{
 "cells": [
  {
   "cell_type": "code",
   "execution_count": null,
   "id": "olive-yacht",
   "metadata": {},
   "outputs": [],
   "source": [
    "import sklearn\n",
    "import matplotlib.pyplot as plt\n",
    "import time\n",
    "import numpy as np\n",
    "from numpy.random import multivariate_normal\n",
    "from numpy.random import uniform"
   ]
  },
  {
   "cell_type": "markdown",
   "id": "designing-verse",
   "metadata": {},
   "source": [
    "### Funções auxiliares"
   ]
  },
  {
   "cell_type": "code",
   "execution_count": null,
   "id": "satisfactory-participation",
   "metadata": {},
   "outputs": [],
   "source": [
    "def create_dataset(n_samples=3000):\n",
    "    \"\"\" Cria um conjunto de dados com duas distribuições Gaussianas e uma uniforme\"\"\"\n",
    "    n_sample = n_samples//3\n",
    "    data = np.zeros([n_samples, 3])\n",
    "\n",
    "    data_0 = multivariate_normal(mean=[-1, 1], cov=[[2, 1],[1, 2]], size=(n_sample))\n",
    "    data_1 = multivariate_normal(mean=[1, 5], cov=[[3, 1],[2, 1]], size=(n_sample))\n",
    "    data_2 = uniform([5, -3], [10, 5], size=(n_sample, 2))\n",
    "\n",
    "    # Merged all datapoints into one dataset\n",
    "    data[:n_sample, :2] = data_0\n",
    "    data[:n_sample, 2] = np.asarray([0]*n_sample)\n",
    "    data[n_sample:2*n_sample, :2] = data_1\n",
    "    data[n_sample:2*n_sample, 2] = np.asarray([1]*n_sample)\n",
    "    data[2*n_sample:, :2] = data_2\n",
    "    data[2*n_sample:, 2] = np.asarray([2]*n_sample)\n",
    "\n",
    "    return data\n",
    "\n",
    "\n",
    "def plot_dataset(data):\n",
    "    \"\"\" Plota os conjuntos de dados gerados\"\"\"\n",
    "    data_0 = data[data[:, 2] == 0][:, :2]\n",
    "    data_1 = data[data[:, 2] == 1][:, :2]\n",
    "    data_2 = data[data[:, 2] == 2][:, :2]\n",
    "\n",
    "    plt.scatter(data_0[:, 0], data_0[:, 1], c='r', label=\"Cluster 1\")\n",
    "    plt.scatter(data_1[:, 0], data_1[:, 1], c='b', label=\"Cluster 2\")\n",
    "    plt.scatter(data_2[:, 0], data_2[:, 1], c='g', label=\"Cluster 3\")\n",
    "    plt.legend()\n",
    "    plt.title(\"2 Distribuições Gaussianas sobrepostas e uma distribuição uniforme\")\n",
    "    plt.show()\n",
    "    plt.clf()\n",
    "    \n",
    "    \n",
    "def plot_results(data, y_kmeans, y_gm):\n",
    "    \"\"\"Plota os resultados numa única figura\"\"\"\n",
    "    fig, ax = plt.subplots(1, 3)\n",
    "    fig.set_size_inches(20, 8, forward=True)  \n",
    "    labels = [data[:, 2], y_kmeans, y_gm]\n",
    "    title = [\"True labels\", \"KMeans\", \"GMs\"]\n",
    "\n",
    "    for i in range(len(labels)):\n",
    "        data_0 = data[labels[i] == 0][:, :2]\n",
    "        data_1 = data[labels[i] == 1][:, :2]\n",
    "        data_2 = data[labels[i] == 2][:, :2]\n",
    "        ax[i].scatter(data_0[:, 0], data_0[:, 1], c='r', label=\"Cluster 1\")\n",
    "        ax[i].scatter(data_1[:, 0], data_1[:, 1], c='b', label=\"Cluster 2\")\n",
    "        ax[i].scatter(data_2[:, 0], data_2[:, 1], c='g', label=\"Cluster 3\")\n",
    "        ax[i].set_title(title[i])\n",
    "        ax[i].legend()\n",
    "\n",
    "    plt.show()\n",
    "    \n",
    "def plot_different_gms(data, threshold, y_gm, y_gm_proba, \n",
    "                       y_gm_kmeans, y_gm_proba_kmeans):\n",
    "    \n",
    "    \"\"\" Plots GMs with a random and kmeans initializer\"\"\"\n",
    "    fig, ax = plt.subplots(1, 3)\n",
    "    fig.set_size_inches(20, 8, forward=True)\n",
    "\n",
    "    # Create new label (\"unknown\") for predictions < probability threshold\n",
    "    y_gm_proba = np.amax(y_gm_proba, axis=1)\n",
    "    y_gm[y_gm_proba < threshold] = 3\n",
    "\n",
    "    y_gm_proba_kmeans = np.amax(y_gm_proba_kmeans, axis=1)\n",
    "    y_gm_kmeans[y_gm_proba_kmeans < threshold] = 3\n",
    "\n",
    "    labels = [data[:, 2], y_gm, y_gm_kmeans]\n",
    "    title = [\"True labels\", \n",
    "           \"GMs with random initializer\", \n",
    "           \"GMs with KMeans as initialization\"]\n",
    "\n",
    "    for i in range(len(labels)):\n",
    "        data_0 = data[labels[i] == 0][:, :2]\n",
    "        data_1 = data[labels[i] == 1][:, :2]\n",
    "        data_2 = data[labels[i] == 2][:, :2]\n",
    "        ax[i].scatter(data_0[:, 0], data_0[:, 1], c='r', label=\"Cluster 1\")\n",
    "        ax[i].scatter(data_1[:, 0], data_1[:, 1], c='b', label=\"Cluster 2\")\n",
    "        ax[i].scatter(data_2[:, 0], data_2[:, 1], c='g', label=\"Cluster 3\")\n",
    "\n",
    "        if i != 0:\n",
    "            # First data are just true labels for comparison\n",
    "            data_3 = data[labels[i] == 3][:, :2]\n",
    "            ax[i].scatter(data_3[:, 0], data_3[:, 1], c='black', label=\"Unknown Cluster\")\n",
    "\n",
    "    ax[i].set_title(title[i])\n",
    "    ax[i].legend()\n",
    "\n",
    "    plt.show()"
   ]
  },
  {
   "cell_type": "code",
   "execution_count": null,
   "id": "short-straight",
   "metadata": {},
   "outputs": [],
   "source": [
    "data = create_dataset()\n",
    "plot_dataset(data)"
   ]
  },
  {
   "cell_type": "markdown",
   "id": "noticed-vocabulary",
   "metadata": {},
   "source": [
    "## TODO 1\n",
    "\n",
    "1. Treine um *k*-means e um GMM com os seguintes parâmetros:\n",
    "\n",
    "> n_clusters/n_components = 3\n",
    "\n",
    "> max_iter = 1000\n",
    "\n",
    "> tol = $1^{-4}$\n",
    "\n",
    "> EXCLUSIVO para GMM: init_params = 'random'\n",
    "\n",
    "\n",
    "2. Faça o predict da seguinte maneira:\n",
    "\n",
    "> para k_means: devolva o resultado na variável y_kmeans\n",
    "\n",
    "> o resultado do predict para GMM coloque na variável y_gm\n",
    "\n",
    "> o resultado do predict_proba para GMM coloque na variável y_gm_proba"
   ]
  },
  {
   "cell_type": "code",
   "execution_count": null,
   "id": "harmful-therapy",
   "metadata": {},
   "outputs": [],
   "source": [
    "#resposta\n"
   ]
  },
  {
   "cell_type": "markdown",
   "id": "engaging-military",
   "metadata": {},
   "source": [
    "## TODO 2\n",
    "\n",
    "Chame a função plot_results e passe os seguintes parâmetros em ordem: data, y_kmeans, y_gm\n",
    "\n",
    "1. Descreva os resultados"
   ]
  },
  {
   "cell_type": "code",
   "execution_count": null,
   "id": "convinced-rhythm",
   "metadata": {},
   "outputs": [],
   "source": [
    "# resposta\n"
   ]
  },
  {
   "cell_type": "markdown",
   "id": "central-eugene",
   "metadata": {},
   "source": [
    "## TODO 3\n",
    "\n",
    "Treine duas GMM:\n",
    "\n",
    "1. A primeira com parâmetros iguais ao do TODO 1\n",
    "\n",
    "2. A segunda, use o K-means como inicializador dos pesos para fazer com o GMM não fique preso em mínimos locais. (Dica: use a documentação da scikit-learn para entender como fazer essa inicialização"
   ]
  },
  {
   "cell_type": "code",
   "execution_count": null,
   "id": "gothic-appeal",
   "metadata": {},
   "outputs": [],
   "source": []
  },
  {
   "cell_type": "markdown",
   "id": "adolescent-decimal",
   "metadata": {},
   "source": [
    "## TODO 4\n",
    "\n",
    "Use o método plot_different_gms para comparar os resultados. Use os seguintes parâmetros:\n",
    "\n",
    "1. data\n",
    "2. 0.34 - valor de probabilidade do qual abaixo o GMM não associará um cluster\n",
    "3. y_gm\n",
    "4. y_gm_proba\n",
    "5. y_gm_kmeans - os labels da GMM que foi treinada usando o k-means como inicializador\n",
    "6. y_gm_proba_kmeans - as probabilidades da GM que treinada usando o k-means como inicializador\n",
    "\n",
    "\n",
    "Descreva os resultados"
   ]
  },
  {
   "cell_type": "code",
   "execution_count": null,
   "id": "celtic-stationery",
   "metadata": {},
   "outputs": [],
   "source": [
    "# resposta\n"
   ]
  },
  {
   "cell_type": "code",
   "execution_count": null,
   "id": "known-boards",
   "metadata": {},
   "outputs": [],
   "source": []
  }
 ],
 "metadata": {
  "kernelspec": {
   "display_name": "Python 3",
   "language": "python",
   "name": "python3"
  },
  "language_info": {
   "codemirror_mode": {
    "name": "ipython",
    "version": 3
   },
   "file_extension": ".py",
   "mimetype": "text/x-python",
   "name": "python",
   "nbconvert_exporter": "python",
   "pygments_lexer": "ipython3",
   "version": "3.7.5"
  }
 },
 "nbformat": 4,
 "nbformat_minor": 5
}
